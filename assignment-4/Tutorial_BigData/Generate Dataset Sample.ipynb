{
 "cells": [
  {
   "cell_type": "code",
   "execution_count": 5,
   "metadata": {},
   "outputs": [],
   "source": [
    "import numpy as np\n",
    "import glob\n",
    "import os\n",
    "import json\n",
    "import random"
   ]
  },
  {
   "cell_type": "code",
   "execution_count": 2,
   "metadata": {},
   "outputs": [],
   "source": [
    "image_files = glob.glob(\"/mnt/workspace/Ugallery/byArtworkID/*.jpg\")\n",
    "image_files.extend(glob.glob(\"/mnt/workspace/Ugallery/Ugallery_inv_small/*.jpg\"))"
   ]
  },
  {
   "cell_type": "code",
   "execution_count": 3,
   "metadata": {},
   "outputs": [],
   "source": [
    "artwork_ids = [int(f[f.rfind('/')+1:-4]) for f in image_files]\n",
    "artwork_ids_set = set(artwork_ids)\n",
    "assert len(artwork_ids) == len(artwork_ids_set)\n",
    "for _id in artwork_ids:\n",
    "    assert type(_id) is int and _id >= 0"
   ]
  },
  {
   "cell_type": "code",
   "execution_count": 27,
   "metadata": {},
   "outputs": [],
   "source": [
    "n_samples = 300"
   ]
  },
  {
   "cell_type": "code",
   "execution_count": 28,
   "metadata": {},
   "outputs": [],
   "source": [
    "sample_ids = random.sample(artwork_ids, n_samples)"
   ]
  },
  {
   "cell_type": "code",
   "execution_count": 29,
   "metadata": {},
   "outputs": [],
   "source": [
    "vgg19_featmat = np.load(\"/mnt/workspace/Ugallery/VGG19/fc2.npy\")\n",
    "with open(\"/mnt/workspace/Ugallery/VGG19/index2id.json\") as f:\n",
    "    vgg19_index2id = json.load(f)"
   ]
  },
  {
   "cell_type": "code",
   "execution_count": 30,
   "metadata": {},
   "outputs": [],
   "source": [
    "vgg19_id2index = { _id: i for i,_id in enumerate(vgg19_index2id) }"
   ]
  },
  {
   "cell_type": "code",
   "execution_count": 31,
   "metadata": {},
   "outputs": [],
   "source": [
    "vgg19_featmat_sample = np.empty((n_samples, vgg19_featmat.shape[1]))\n",
    "for i,_id in enumerate(sample_ids):\n",
    "    vgg19_featmat_sample[i] = vgg19_featmat[vgg19_id2index[_id]]"
   ]
  },
  {
   "cell_type": "code",
   "execution_count": 32,
   "metadata": {},
   "outputs": [
    {
     "data": {
      "text/plain": [
       "(300, 4096)"
      ]
     },
     "execution_count": 32,
     "metadata": {},
     "output_type": "execute_result"
    }
   ],
   "source": [
    "vgg19_featmat_sample.shape"
   ]
  },
  {
   "cell_type": "code",
   "execution_count": 34,
   "metadata": {},
   "outputs": [],
   "source": [
    "resnet_files = glob.glob(\"/mnt/workspace/Ugallery/byArtworkID_resnet_features/*.npy\")\n",
    "resnet_files.extend(glob.glob(\"/mnt/workspace/Ugallery/Ugallery_inv_small_resnet_features/*.npy\"))"
   ]
  },
  {
   "cell_type": "code",
   "execution_count": 40,
   "metadata": {},
   "outputs": [],
   "source": [
    "resnet_id2file = dict()\n",
    "for f in resnet_files:\n",
    "    _id = int(f[f.rfind('/')+1:-4])\n",
    "    resnet_id2file[_id] = f"
   ]
  },
  {
   "cell_type": "code",
   "execution_count": 42,
   "metadata": {},
   "outputs": [],
   "source": [
    "resnet50_featmat_sample = None\n",
    "for i,_id in enumerate(sample_ids):\n",
    "    file = resnet_id2file[_id]\n",
    "    feat = np.load(file)\n",
    "    if resnet50_featmat_sample is None:\n",
    "        resnet50_featmat_sample = np.empty((n_samples, feat.shape[0]))\n",
    "    resnet50_featmat_sample[i] = feat"
   ]
  },
  {
   "cell_type": "code",
   "execution_count": 46,
   "metadata": {},
   "outputs": [],
   "source": [
    "with open('./index2artworkId.json', 'w') as f:\n",
    "    json.dump(sample_ids, f)"
   ]
  },
  {
   "cell_type": "code",
   "execution_count": 47,
   "metadata": {},
   "outputs": [],
   "source": [
    "resnet50_featmat_sample.dump('./resnet50_feature_matrix.npy')"
   ]
  },
  {
   "cell_type": "code",
   "execution_count": 49,
   "metadata": {},
   "outputs": [],
   "source": [
    "vgg19_featmat_sample.dump('./vgg19_feature_matrix.npy')"
   ]
  },
  {
   "cell_type": "code",
   "execution_count": 51,
   "metadata": {},
   "outputs": [
    {
     "data": {
      "text/plain": [
       "(300, 2048)"
      ]
     },
     "execution_count": 51,
     "metadata": {},
     "output_type": "execute_result"
    }
   ],
   "source": [
    "resnet50_featmat_sample.shape"
   ]
  }
 ],
 "metadata": {
  "kernelspec": {
   "display_name": "Python 3",
   "language": "python",
   "name": "python3"
  },
  "language_info": {
   "codemirror_mode": {
    "name": "ipython",
    "version": 3
   },
   "file_extension": ".py",
   "mimetype": "text/x-python",
   "name": "python",
   "nbconvert_exporter": "python",
   "pygments_lexer": "ipython3",
   "version": "3.6.4"
  }
 },
 "nbformat": 4,
 "nbformat_minor": 2
}
