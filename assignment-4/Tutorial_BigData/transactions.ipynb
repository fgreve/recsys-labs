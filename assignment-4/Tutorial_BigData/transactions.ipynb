{
 "cells": [
  {
   "cell_type": "code",
   "execution_count": 1,
   "metadata": {
    "collapsed": true
   },
   "outputs": [],
   "source": [
    "import numpy as np\n",
    "import json\n",
    "import pickle"
   ]
  },
  {
   "cell_type": "code",
   "execution_count": 2,
   "metadata": {
    "collapsed": true
   },
   "outputs": [],
   "source": [
    "with open('./index2artworkId.json') as handle:\n",
    "    indexes = json.load(handle)"
   ]
  },
  {
   "cell_type": "code",
   "execution_count": 3,
   "metadata": {
    "collapsed": true
   },
   "outputs": [],
   "source": [
    "def create_user_transactions(num_trx):\n",
    "    return np.random.choice(indexes, num_trx, replace=False)"
   ]
  },
  {
   "cell_type": "code",
   "execution_count": 4,
   "metadata": {
    "collapsed": true
   },
   "outputs": [],
   "source": [
    "users = {}\n",
    "for i in range(25):\n",
    "    users[i] = create_user_transactions(np.random.randint(10,21))"
   ]
  },
  {
   "cell_type": "code",
   "execution_count": 5,
   "metadata": {
    "collapsed": true
   },
   "outputs": [],
   "source": [
    "with open('./user_transaction_dict.pickle', 'rb') as handle:\n",
    "    users = pickle.load(handle)"
   ]
  },
  {
   "cell_type": "code",
   "execution_count": 6,
   "metadata": {
    "collapsed": true
   },
   "outputs": [],
   "source": [
    "train = {}\n",
    "test = {}\n",
    "for u, v in users.items():\n",
    "    size = round(len(v) * 0.8)\n",
    "    train[u] = v[:size]\n",
    "    test[u] = v[size:]"
   ]
  },
  {
   "cell_type": "code",
   "execution_count": 7,
   "metadata": {},
   "outputs": [
    {
     "name": "stdout",
     "output_type": "stream",
     "text": [
      "User transactions: [49920 42462 38680 23382 46325 35905 51514 31738 37889 37303 44624 52629\n",
      " 51263 37815]\n",
      "Past transactions: [49920 42462 38680 23382 46325 35905 51514 31738 37889 37303 44624]\n",
      "Ground truth: [52629 51263 37815]\n"
     ]
    }
   ],
   "source": [
    "print('User transactions:', users[0])\n",
    "print('Past transactions:', train[0])\n",
    "print('Ground truth:', test[0])"
   ]
  },
  {
   "cell_type": "code",
   "execution_count": null,
   "metadata": {
    "collapsed": true
   },
   "outputs": [],
   "source": [
    "with open('./past_transactions.json') as"
   ]
  }
 ],
 "metadata": {
  "kernelspec": {
   "display_name": "recsys-class",
   "language": "python",
   "name": "recsys-class"
  },
  "language_info": {
   "codemirror_mode": {
    "name": "ipython",
    "version": 3
   },
   "file_extension": ".py",
   "mimetype": "text/x-python",
   "name": "python",
   "nbconvert_exporter": "python",
   "pygments_lexer": "ipython3",
   "version": "3.6.5"
  }
 },
 "nbformat": 4,
 "nbformat_minor": 2
}
