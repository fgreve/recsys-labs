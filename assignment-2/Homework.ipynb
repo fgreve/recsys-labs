{
 "cells": [
  {
   "cell_type": "markdown",
   "metadata": {},
   "source": [
    "# Laboratorio 2\n",
    "\n",
    "> **Fecha Inicio**: Miércoles 25 de abril del 2018\n",
    "\n",
    "> **Fecha Informe**: Domingo 06 de mayo del 2018"
   ]
  },
  {
   "cell_type": "markdown",
   "metadata": {},
   "source": [
    "## Instalación\n",
    "\n",
    "Para facilitar el proceso de instalación de esta actividad, trabajaremos con una máquina virtual que tendrá _casi_ todos los programas instalados.\n",
    "\n",
    "Como motor de máquinas virtuales usaremos [Virtual Box](https://www.virtualbox.org/wiki/Downloads). Desde ese link tendrán que descargar la versión que mejor se ajuste a su sistema operativo. Luego desde los servidores de la universidad deben descargar la [máquina virtual](http://niebla.ing.puc.cl/diplomadobigdata/vbox-pyreclab-lda.ova) ya configurada.\n",
    "\n",
    "Finalmente debemos importar la máquina descargada dentro de Virtual Box, para ello deben seguir los siguientes pasos: Abrir virtual box > Archivo > Abrir servicio virtualizado, o bien `Crtl+I`.\n",
    "\n",
    "**Observación:** la contraseña del usuario configurado es _ubuntu_.\n",
    "\n",
    "Una vez abierto la máquina virtual, abrir la consola o terminal y escribir los siguiente comandos:\n",
    "\n",
    "```bash\n",
    "$ sudo apt-get update\n",
    "$ sudo apt-get install python3-dev\n",
    "$ sudo apt-get install git\n",
    "$ sudo pip3 install jupyter\n",
    "$ sudo pip3 install matplotlib\n",
    "$ sudo pip3 install pandas\n",
    "$ sudo pip3 install scipy\n",
    "$ sudo pip3 install cython\n",
    "$ sudo pip3 install implicit\n",
    "$ sudo pip3 install sklearn\n",
    "```\n",
    "\n",
    "Descargar este proyecto ya sea con `git` o mediante el botón de descargar y ejecutar `notebook`.\n",
    "\n",
    "```bash\n",
    "$ git clone https://github.com/stgolarrain/recsys-labs.git\n",
    "$ cd recsys-labs/assignment-2\n",
    "$ jupyter notebook\n",
    "```"
   ]
  },
  {
   "cell_type": "markdown",
   "metadata": {},
   "source": [
    "## Instrucciones\n",
    "\n",
    "En este laboratorio vamos a utilizar la librería [implicit](https://github.com/benfred/implicit), la cual implementa dos modelos de *implicit feedback* con [Bayesian Probabilistic Ranking](https://arxiv.org/pdf/1205.2618.pdf) y [Alternating Least Square (ALS)](https://web.stanford.edu/~rezab/classes/cme323/S15/notes/lec14.pdf).\n",
    "\n",
    "Por otro lado, aprenderás a usar la librería [pandas](https://pandas.pydata.org/) para la manipulación de datos a través de *data frames*. En la tercera parte, usaremos la librería [scikit-learn](http://scikit-learn.org/) la cual es considerada un estándar en temas de `machine learning` y modelos predictivos. Recomendamos al alumno revisar la documentación de ambas librerías.\n",
    " \n",
    "También contarán con un pequeño set de datos ubicado en la carpeta `/dataset`, el cual incluye dos archivos: `movies.dat` y `ratings.dat`. Como es de esperarse el archivo `movies.dat` cuenta con metadatos de películas, mientras que `ratings.dat` contiene los *ratings* que diferentes usuarios le asignaron a diferentes películas. El formato de cada archivo es como sigue:\n",
    "\n",
    "- `movies.dat`: `movie_id; title; genres`\n",
    "- `ratings.dat`: `user_id; movie_id; rating; timestamp`\n",
    "\n",
    "Los datos de `genres` corresponden a las categorías de la película separados por el caracter |.\n",
    "\n",
    "En este laboratorio tendrán que implementar las siguientes tareas:\n",
    "\n",
    "1. Descripción preliminar del set de datos\n",
    "2. Entrenar y evaluar cualitativamente los modelos de factorización utilizando ambos métodos\n",
    "3. Visualizar los vectores latentes mediante la técnica PCA"
   ]
  },
  {
   "cell_type": "markdown",
   "metadata": {},
   "source": [
    "## 1. Descripción de los Datos\n",
    "\n",
    "En esta sección utilizaremos la librería [Pandas](https://pandas.pydata.org/) para el manejo de *data frames*."
   ]
  },
  {
   "cell_type": "code",
   "execution_count": null,
   "metadata": {
    "collapsed": true
   },
   "outputs": [],
   "source": [
    "import pandas as pd\n",
    "import matplotlib.pyplot as plt\n",
    "%matplotlib inline"
   ]
  },
  {
   "cell_type": "code",
   "execution_count": null,
   "metadata": {
    "collapsed": true
   },
   "outputs": [],
   "source": [
    "# Load movies dataset\n",
    "movies_path = './dataset/movies.dat'\n",
    "headers = ['movie_id', 'title', 'genres']\n",
    "movies = pd.read_csv(movies_path,\n",
    "                     names=headers,\n",
    "                     delimiter=';')\n",
    "\n",
    "movies[:5]"
   ]
  },
  {
   "cell_type": "code",
   "execution_count": null,
   "metadata": {
    "collapsed": true
   },
   "outputs": [],
   "source": [
    "print('# Movies:', movies['movie_id'].nunique())"
   ]
  },
  {
   "cell_type": "markdown",
   "metadata": {},
   "source": [
    "**Pregunta** ¿Cuántas películas tiene el set de datos?\n",
    "\n",
    "**Respuesta**"
   ]
  },
  {
   "cell_type": "code",
   "execution_count": null,
   "metadata": {
    "collapsed": true
   },
   "outputs": [],
   "source": [
    "# Load rating dataset\n",
    "ratings_path = './dataset/ratings.dat'\n",
    "headers = ['user_id', 'movie_id', 'rating', 'timestamp']\n",
    "ratings = pd.read_csv(ratings_path,\n",
    "                     names=headers,\n",
    "                     delimiter=';',\n",
    "                     usecols=['user_id', 'movie_id', 'rating'])\n",
    "\n",
    "ratings[:5]"
   ]
  },
  {
   "cell_type": "code",
   "execution_count": null,
   "metadata": {
    "collapsed": true
   },
   "outputs": [],
   "source": [
    "# TODO: Code your answer here"
   ]
  },
  {
   "cell_type": "markdown",
   "metadata": {},
   "source": [
    "**Pregunta** ¿Cuántos usuarios tiene el set de datos?\n",
    "\n",
    "** Respuesta**"
   ]
  },
  {
   "cell_type": "code",
   "execution_count": null,
   "metadata": {
    "collapsed": true
   },
   "outputs": [],
   "source": [
    "# TODO: Code your answer here"
   ]
  },
  {
   "cell_type": "markdown",
   "metadata": {},
   "source": [
    "**Pregunta** ¿Cuál es el porcentaje de densidad que tiene la matriz usuario-items?\n",
    "\n",
    "** Respuesta**"
   ]
  },
  {
   "cell_type": "code",
   "execution_count": null,
   "metadata": {
    "collapsed": true
   },
   "outputs": [],
   "source": [
    "# Top 5 most popular movies\n",
    "top_5_count = ratings.groupby(['movie_id'], as_index=False)[['rating']].count()\n",
    "top_5_count = top_5_count.sort_values(['rating'], ascending=False).head(5)\n",
    "top_5_count = top_5_count.merge(movies, on='movie_id', how='inner')\n",
    "top_5_count"
   ]
  },
  {
   "cell_type": "code",
   "execution_count": null,
   "metadata": {
    "collapsed": true
   },
   "outputs": [],
   "source": [
    "# Top 5 most like movies (average rating)\n",
    "top_5_mean_rating = ratings.groupby(['movie_id'], as_index=False)[['rating']].mean()\n",
    "top_5_mean_rating = top_5_mean_rating.sort_values(['rating'], ascending=False).head(5)\n",
    "top_5_mean_rating = top_5_mean_rating.merge(movies, on='movie_id', how='inner')\n",
    "top_5_mean_rating"
   ]
  },
  {
   "cell_type": "markdown",
   "metadata": {},
   "source": [
    "**Pregunta** ¿Cuales son las películas menos populares en términos de cantidad?\n",
    "\n",
    "*Hint* Te recomendamos utilizar la función [`tail`](https://pandas.pydata.org/pandas-docs/stable/generated/pandas.DataFrame.tail.html) de Pandas\n",
    "\n",
    "**Respuesta**"
   ]
  },
  {
   "cell_type": "code",
   "execution_count": null,
   "metadata": {
    "collapsed": true
   },
   "outputs": [],
   "source": [
    "# TODO: Code your answer here"
   ]
  },
  {
   "cell_type": "markdown",
   "metadata": {},
   "source": [
    "**Pregunta** ¿Cuales son las películas menos populares en términos de rating promedio?\n",
    "\n",
    "**Respuesta**"
   ]
  },
  {
   "cell_type": "code",
   "execution_count": null,
   "metadata": {
    "collapsed": true
   },
   "outputs": [],
   "source": [
    "# TODO: Code your answer here"
   ]
  },
  {
   "cell_type": "markdown",
   "metadata": {},
   "source": [
    "**Pregunta** Describa las listas de películas menos populares ¿Se parecen las listas de películas menos populares? ¿Por qué?\n",
    "\n",
    "**Respuesta**"
   ]
  },
  {
   "cell_type": "code",
   "execution_count": null,
   "metadata": {
    "collapsed": true
   },
   "outputs": [],
   "source": [
    "# Rating Histogram\n",
    "ratings['rating'].hist(bins=5)\n",
    "plt.title('Rating Histogram')\n",
    "plt.xlabel('Rating')\n",
    "plt.ylabel('Frequency')\n",
    "plt.show()"
   ]
  },
  {
   "cell_type": "markdown",
   "metadata": {},
   "source": [
    "**Pregunta**: ¿El set de datos tiene problemas de `cold-start` o ítems con pocos ratings? Justifique generando un histograma con los ratings por usuario y por ítems.\n",
    "\n",
    "*Hint*: recomendamos utilizar el parámetro bins en el histograma para visualizar la respuesta.\n",
    "\n",
    "**Respuesta**"
   ]
  },
  {
   "cell_type": "code",
   "execution_count": null,
   "metadata": {
    "collapsed": true
   },
   "outputs": [],
   "source": [
    "# TODO: Code your answer"
   ]
  },
  {
   "cell_type": "markdown",
   "metadata": {},
   "source": [
    "## 2. Factorización Matricial"
   ]
  },
  {
   "cell_type": "code",
   "execution_count": null,
   "metadata": {
    "collapsed": true
   },
   "outputs": [],
   "source": [
    "import implicit\n",
    "import numpy as np\n",
    "from scipy.sparse import coo_matrix\n",
    "from implicit.als import AlternatingLeastSquares\n",
    "from implicit.bpr import BayesianPersonalizedRanking"
   ]
  },
  {
   "cell_type": "code",
   "execution_count": null,
   "metadata": {
    "collapsed": true
   },
   "outputs": [],
   "source": [
    "# Parse data into a sparse matrix\n",
    "data = ratings\n",
    "\n",
    "# Generate map for user\n",
    "unique_users = data['user_id'].unique()\n",
    "user_to_int = {u: i for i, u in enumerate(unique_users)}\n",
    "int_to_user = dict(enumerate(unique_users))\n",
    "\n",
    "# Generate map for movies\n",
    "unique_movies = data['movie_id'].unique()\n",
    "movie_to_int = {u: i for i, u in enumerate(unique_movies)}\n",
    "int_to_movie = dict(enumerate(unique_movies))\n",
    "\n",
    "# Map user and movies\n",
    "user_data = data['user_id'].map(lambda u: user_to_int[u]).tolist()\n",
    "movie_data = data['movie_id'].map(lambda m: movie_to_int[m]).tolist()\n",
    "\n",
    "data = coo_matrix((data['rating'].astype(np.float32),\n",
    "                  (movie_data, user_data)))\n",
    "items = data.T.tocsr()"
   ]
  },
  {
   "cell_type": "markdown",
   "metadata": {},
   "source": [
    "En la próxima celda generaremos nuestro modelo ALS y lo entrenaremos con los datos de forma implícita."
   ]
  },
  {
   "cell_type": "code",
   "execution_count": null,
   "metadata": {
    "collapsed": true
   },
   "outputs": [],
   "source": [
    "# Train an ALS model\n",
    "als_model = AlternatingLeastSquares(factors=50, regularization=0.01, iterations=50)\n",
    "als_model.fit(data)"
   ]
  },
  {
   "cell_type": "markdown",
   "metadata": {},
   "source": [
    "En la próxima celda generaremos nuestro modelo BPR y lo entrenaremos con los datos de forma implícita."
   ]
  },
  {
   "cell_type": "code",
   "execution_count": null,
   "metadata": {
    "collapsed": true
   },
   "outputs": [],
   "source": [
    "# Train a BPR model\n",
    "bpr_model = BayesianPersonalizedRanking(factors=50, regularization=0.01, iterations=50)\n",
    "bpr_model.fit(data)"
   ]
  },
  {
   "cell_type": "markdown",
   "metadata": {},
   "source": [
    "A continuación se implementaron dos funciones que permite generar recomendaciones para un usuario dado un modelo, y otra que permite ver las 10 películas con mejor rating para un usuario. Deberá generar recomendaciones para un usuario utilizando los modelos BPR y ALS; visualizar las películas con mejor rating y responder las siguientes preguntas"
   ]
  },
  {
   "cell_type": "code",
   "execution_count": null,
   "metadata": {
    "collapsed": true
   },
   "outputs": [],
   "source": [
    "# Don't change this cell\n",
    "def recommend(user_id, model, items, movies, movie_map):\n",
    "    recommendations = model.recommend(user_id, items)\n",
    "    df_data = {\n",
    "        'movie_id': [],\n",
    "        'scores': []\n",
    "    }\n",
    "\n",
    "    for movie_id, score in recommendations:\n",
    "        df_data['movie_id'].append(movie_map[movie_id])\n",
    "        df_data['scores'].append(score)\n",
    "        \n",
    "    df = pd.DataFrame(data=df_data)\n",
    "    df = df.merge(movies, on=['movie_id'], how='inner')\n",
    "        \n",
    "    return df\n",
    "    \n",
    "def show_user(user_id, ratings, movies, movie_map, user_map):\n",
    "    user_id = user_map[user_id]\n",
    "    df = ratings[ ratings['user_id'] == user_id].sort_values(['rating'], ascending=False)\n",
    "    df = df.merge(movies, on=['movie_id'], how='inner')\n",
    "    return df[:10]\n",
    "\n",
    "# Usage example\n",
    "# \n",
    "# user_id = 0 \n",
    "# recommend(user_id, als_model, items, movies, int_to_movie)\n",
    "# show_user(user_id, ratings, movies, int_to_movie, int_to_user)"
   ]
  },
  {
   "cell_type": "code",
   "execution_count": null,
   "metadata": {
    "collapsed": true
   },
   "outputs": [],
   "source": [
    "# TODO: Code your answer"
   ]
  },
  {
   "cell_type": "markdown",
   "metadata": {},
   "source": [
    "**Pregunta**: Según tu punto de vista, ¿qué modelo obtuvo la mejor recomendación?\n",
    "\n",
    "**Respuesta**"
   ]
  },
  {
   "cell_type": "markdown",
   "metadata": {},
   "source": [
    "**Pregunta**: Según el contenido visto en clases, ¿por qué un modelo genera mejor recomendaciones que otro? Justifique su respuesta.\n",
    "\n",
    "**Respuesta**:"
   ]
  },
  {
   "cell_type": "markdown",
   "metadata": {},
   "source": [
    "## 3. Visualización de vectores latentes"
   ]
  },
  {
   "cell_type": "markdown",
   "metadata": {},
   "source": [
    "En esta sección tomaremos los vectores latentes del modelo BPR y aplicaremos una reducción de dimensionalidad a 2D mediante PCA. Luego de ejecutar las próximas celdas, deberá responder las preguntas."
   ]
  },
  {
   "cell_type": "code",
   "execution_count": null,
   "metadata": {
    "collapsed": true
   },
   "outputs": [],
   "source": [
    "# Don't change this cell\n",
    "from sklearn.decomposition import PCA\n",
    "\n",
    "# Train a PCA model\n",
    "pca = PCA(n_components=2)\n",
    "data = pca.fit_transform(bpr_model.item_factors)\n",
    "\n",
    "plt.scatter(data[:, 0], data[:, 1])\n",
    "plt.title('Movie Embeddings Plot')\n",
    "plt.xlabel('x')\n",
    "plt.ylabel('y')\n",
    "plt.show()"
   ]
  },
  {
   "cell_type": "code",
   "execution_count": null,
   "metadata": {
    "collapsed": true
   },
   "outputs": [],
   "source": [
    "N = 20\n",
    "\n",
    "# Don't change the under this line\n",
    "labels = []\n",
    "categories = []\n",
    "\n",
    "for i in range(N):\n",
    "    movie_id = int_to_movie[i]\n",
    "    movie_name = movies[ movies['movie_id'] == movie_id ]['title'].tolist()[0]\n",
    "    genres = movies[ movies['movie_id'] == movie_id ]['genres'].tolist()[0]\n",
    "    \n",
    "    labels.append(movie_name)\n",
    "    categories.append(genres)\n",
    "    \n",
    "\n",
    "plot_data = data[:N]\n",
    "plt.figure(figsize=(20,20))\n",
    "plt.scatter(plot_data[:, 0], plot_data[:, 1])\n",
    "plt.title('Movie Embeddings Plot')\n",
    "plt.xlabel('x')\n",
    "plt.ylabel('y')\n",
    "\n",
    "# Plot movie names\n",
    "for i in range(N):\n",
    "    plt.annotate(labels[i], (plot_data[i, 0], data[i, 1] + .01))\n",
    "    plt.annotate(categories[i], (plot_data[i, 0], data[i, 1] - .01))\n",
    "\n",
    "plt.show()"
   ]
  },
  {
   "cell_type": "markdown",
   "metadata": {},
   "source": [
    "**Pregunta**: Explique en sus palabras qué información capturan los vectores latentes de ítem.\n",
    "\n",
    "**Respuesta**:"
   ]
  },
  {
   "cell_type": "markdown",
   "metadata": {},
   "source": [
    "**Pregunta**: En base al gráfico anterior, asigne un nombre o explicación a los ejes `x` e `y`.\n",
    "\n",
    "**Respuesta**:"
   ]
  },
  {
   "cell_type": "markdown",
   "metadata": {},
   "source": [
    "**Pregunta**: Dado lo aprendido en clases sobre PCA, explique cómo se obtuvieron los ejes `x` e `y`.\n",
    "\n",
    "**Respuesta**:"
   ]
  },
  {
   "cell_type": "markdown",
   "metadata": {},
   "source": [
    "## Entregable\n",
    "\n",
    "Una vez completado el laboratorio y respondido las preguntas deberán exportar este archivo en formato `html` y subir a la plataforma _Moodle_.\n",
    "\n",
    "Para exportar este archivo deben ir a `File > Donwload as > HTML (.html)`\n",
    "\n",
    "Si tienen algún problema o duda enviar mail a **dparra [at] ing [dot] puc [dot] cl** o **slarrain [at] uc [dot] cl** anteponiendo [Diplomada Bog Data] en el asunto."
   ]
  }
 ],
 "metadata": {
  "kernelspec": {
   "display_name": "recsys-class",
   "language": "python",
   "name": "recsys-class"
  },
  "language_info": {
   "codemirror_mode": {
    "name": "ipython",
    "version": 3
   },
   "file_extension": ".py",
   "mimetype": "text/x-python",
   "name": "python",
   "nbconvert_exporter": "python",
   "pygments_lexer": "ipython3",
   "version": "3.6.5"
  }
 },
 "nbformat": 4,
 "nbformat_minor": 2
}
